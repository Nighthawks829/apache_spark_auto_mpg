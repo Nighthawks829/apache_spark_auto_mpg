{
 "cells": [
  {
   "cell_type": "code",
   "execution_count": 3,
   "metadata": {},
   "outputs": [
    {
     "name": "stderr",
     "output_type": "stream",
     "text": [
      "24/11/28 14:25:28 WARN SparkSession: Using an existing Spark session; only runtime SQL configurations will take effect.\n"
     ]
    }
   ],
   "source": [
    "from pyspark.sql import SparkSession\n",
    "\n",
    "spark = SparkSession.builder \\\n",
    "    .appName(\"PySpark SQL Server Connection\") \\\n",
    "    .config(\"spark.jars\", \"/usr/share/java/mysql-connector-java-9.1.0.jar\") \\\n",
    "    .getOrCreate()"
   ]
  },
  {
   "cell_type": "code",
   "execution_count": 6,
   "metadata": {},
   "outputs": [],
   "source": [
    "# Define MySQL connection parameters\n",
    "jdbc_url = \"jdbc:mysql://192.168.0.110/todo\"\n",
    "connection_properties = {\"user\": \"nighthawksdb\",\n",
    "                         \"password\": \"sunlightsam829\", \"driver\": \"com.mysql.cj.jdbc.Driver\"}"
   ]
  },
  {
   "cell_type": "code",
   "execution_count": null,
   "metadata": {},
   "outputs": [],
   "source": [
    "# Load the data from MySQL into a Spark DataFrame\n",
    "df = spark.read.jdbc(url=jdbc_url, table=\"Users\", properties=connection_properties)"
   ]
  },
  {
   "cell_type": "code",
   "execution_count": 9,
   "metadata": {},
   "outputs": [
    {
     "name": "stderr",
     "output_type": "stream",
     "text": [
      "                                                                                \r"
     ]
    },
    {
     "name": "stdout",
     "output_type": "stream",
     "text": [
      "+--------------------+----------+--------------------+--------------------+-------------------+-------------------+\n",
      "|                  id|      name|               email|            password|          createdAt|          updatedAt|\n",
      "+--------------------+----------+--------------------+--------------------+-------------------+-------------------+\n",
      "|3b99a2bb-ad6e-40d...|Nighthawks|nighthawks230@gma...|$2b$10$sG1WdqBG5I...|2024-11-06 12:25:21|2024-11-06 12:25:21|\n",
      "|500ea054-7566-466...|Nighthawks|nighthawks0230@gm...|$2b$10$arpQruJcmu...|2024-10-25 15:15:09|2024-10-25 15:20:27|\n",
      "|8f70d4a8-1830-408...|       Sam|   sam0230@gmail.com|$2b$10$eAcUUkef49...|2024-11-12 10:48:56|2024-11-15 10:01:40|\n",
      "+--------------------+----------+--------------------+--------------------+-------------------+-------------------+\n",
      "\n"
     ]
    }
   ],
   "source": [
    "df.show(5)"
   ]
  },
  {
   "cell_type": "code",
   "execution_count": null,
   "metadata": {},
   "outputs": [],
   "source": []
  }
 ],
 "metadata": {
  "kernelspec": {
   "display_name": "spark",
   "language": "python",
   "name": "python3"
  },
  "language_info": {
   "codemirror_mode": {
    "name": "ipython",
    "version": 3
   },
   "file_extension": ".py",
   "mimetype": "text/x-python",
   "name": "python",
   "nbconvert_exporter": "python",
   "pygments_lexer": "ipython3",
   "version": "3.13.0"
  }
 },
 "nbformat": 4,
 "nbformat_minor": 2
}
