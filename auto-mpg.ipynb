{
 "cells": [
  {
   "cell_type": "code",
   "execution_count": 1,
   "metadata": {},
   "outputs": [],
   "source": [
    "from pyspark.sql import SparkSession\n",
    "from pyspark.ml.stat import Correlation\n",
    "import pyspark.sql.functions as F\n",
    "from pyspark.sql.functions import col\n",
    "from pyspark.sql.functions import when\n",
    "import matplotlib.pyplot as plt\n",
    "\n",
    "import numpy as np\n",
    "import pandas as pd"
   ]
  },
  {
   "cell_type": "code",
   "execution_count": 2,
   "metadata": {},
   "outputs": [
    {
     "name": "stderr",
     "output_type": "stream",
     "text": [
      "Setting default log level to \"WARN\".\n",
      "To adjust logging level use sc.setLogLevel(newLevel). For SparkR, use setLogLevel(newLevel).\n",
      "24/12/02 20:40:19 WARN NativeCodeLoader: Unable to load native-hadoop library for your platform... using builtin-java classes where applicable\n"
     ]
    }
   ],
   "source": [
    "spark=SparkSession.builder.getOrCreate()"
   ]
  },
  {
   "cell_type": "code",
   "execution_count": 3,
   "metadata": {},
   "outputs": [
    {
     "name": "stderr",
     "output_type": "stream",
     "text": [
      "                                                                                \r"
     ]
    }
   ],
   "source": [
    "df = spark.read.csv(\"./auto-mpg.csv\", inferSchema=True, header=True)"
   ]
  },
  {
   "cell_type": "code",
   "execution_count": 4,
   "metadata": {},
   "outputs": [
    {
     "name": "stdout",
     "output_type": "stream",
     "text": [
      "+----+---------+------------+----------+------+------------+----------+------+--------------------+\n",
      "| mpg|cylinders|displacement|horsepower|weight|acceleration|model year|origin|            car name|\n",
      "+----+---------+------------+----------+------+------------+----------+------+--------------------+\n",
      "|18.0|        8|       307.0|       130|  3504|        12.0|        70|     1|chevrolet chevell...|\n",
      "|15.0|        8|       350.0|       165|  3693|        11.5|        70|     1|   buick skylark 320|\n",
      "|18.0|        8|       318.0|       150|  3436|        11.0|        70|     1|  plymouth satellite|\n",
      "|16.0|        8|       304.0|       150|  3433|        12.0|        70|     1|       amc rebel sst|\n",
      "|17.0|        8|       302.0|       140|  3449|        10.5|        70|     1|         ford torino|\n",
      "|15.0|        8|       429.0|       198|  4341|        10.0|        70|     1|    ford galaxie 500|\n",
      "|14.0|        8|       454.0|       220|  4354|         9.0|        70|     1|    chevrolet impala|\n",
      "|14.0|        8|       440.0|       215|  4312|         8.5|        70|     1|   plymouth fury iii|\n",
      "|14.0|        8|       455.0|       225|  4425|        10.0|        70|     1|    pontiac catalina|\n",
      "|15.0|        8|       390.0|       190|  3850|         8.5|        70|     1|  amc ambassador dpl|\n",
      "|15.0|        8|       383.0|       170|  3563|        10.0|        70|     1| dodge challenger se|\n",
      "|14.0|        8|       340.0|       160|  3609|         8.0|        70|     1|  plymouth 'cuda 340|\n",
      "|15.0|        8|       400.0|       150|  3761|         9.5|        70|     1|chevrolet monte c...|\n",
      "|14.0|        8|       455.0|       225|  3086|        10.0|        70|     1|buick estate wago...|\n",
      "|24.0|        4|       113.0|        95|  2372|        15.0|        70|     3|toyota corona mar...|\n",
      "|22.0|        6|       198.0|        95|  2833|        15.5|        70|     1|     plymouth duster|\n",
      "|18.0|        6|       199.0|        97|  2774|        15.5|        70|     1|          amc hornet|\n",
      "|21.0|        6|       200.0|        85|  2587|        16.0|        70|     1|       ford maverick|\n",
      "|27.0|        4|        97.0|        88|  2130|        14.5|        70|     3|        datsun pl510|\n",
      "|26.0|        4|        97.0|        46|  1835|        20.5|        70|     2|volkswagen 1131 d...|\n",
      "+----+---------+------------+----------+------+------------+----------+------+--------------------+\n",
      "only showing top 20 rows\n",
      "\n"
     ]
    }
   ],
   "source": [
    "df.show()"
   ]
  },
  {
   "cell_type": "code",
   "execution_count": 5,
   "metadata": {},
   "outputs": [
    {
     "name": "stdout",
     "output_type": "stream",
     "text": [
      "root\n",
      " |-- mpg: double (nullable = true)\n",
      " |-- cylinders: integer (nullable = true)\n",
      " |-- displacement: double (nullable = true)\n",
      " |-- horsepower: string (nullable = true)\n",
      " |-- weight: integer (nullable = true)\n",
      " |-- acceleration: double (nullable = true)\n",
      " |-- model year: integer (nullable = true)\n",
      " |-- origin: integer (nullable = true)\n",
      " |-- car name: string (nullable = true)\n",
      "\n"
     ]
    }
   ],
   "source": [
    "df.printSchema()"
   ]
  },
  {
   "cell_type": "code",
   "execution_count": 6,
   "metadata": {},
   "outputs": [
    {
     "data": {
      "text/plain": [
       "[('mpg', 'double'),\n",
       " ('cylinders', 'int'),\n",
       " ('displacement', 'double'),\n",
       " ('horsepower', 'string'),\n",
       " ('weight', 'int'),\n",
       " ('acceleration', 'double'),\n",
       " ('model year', 'int'),\n",
       " ('origin', 'int'),\n",
       " ('car name', 'string')]"
      ]
     },
     "execution_count": 6,
     "metadata": {},
     "output_type": "execute_result"
    }
   ],
   "source": [
    "df.dtypes"
   ]
  },
  {
   "cell_type": "code",
   "execution_count": 7,
   "metadata": {},
   "outputs": [],
   "source": [
    "# Change data type of horsepower from string to int\n",
    "df=df.withColumn(\"horsepower\",col(\"horsepower\").cast(\"int\"))"
   ]
  },
  {
   "cell_type": "code",
   "execution_count": 8,
   "metadata": {},
   "outputs": [
    {
     "data": {
      "text/plain": [
       "[('mpg', 'double'),\n",
       " ('cylinders', 'int'),\n",
       " ('displacement', 'double'),\n",
       " ('horsepower', 'int'),\n",
       " ('weight', 'int'),\n",
       " ('acceleration', 'double'),\n",
       " ('model year', 'int'),\n",
       " ('origin', 'int'),\n",
       " ('car name', 'string')]"
      ]
     },
     "execution_count": 8,
     "metadata": {},
     "output_type": "execute_result"
    }
   ],
   "source": [
    "df.dtypes"
   ]
  },
  {
   "cell_type": "code",
   "execution_count": 9,
   "metadata": {},
   "outputs": [
    {
     "name": "stderr",
     "output_type": "stream",
     "text": [
      "24/12/02 20:40:30 WARN SparkStringUtils: Truncated the string representation of a plan since it was too large. This behavior can be adjusted by setting 'spark.sql.debug.maxToStringFields'.\n",
      "[Stage 5:>                                                          (0 + 1) / 1]\r"
     ]
    },
    {
     "name": "stdout",
     "output_type": "stream",
     "text": [
      "+-------+------------------+------------------+------------------+------------------+-----------------+------------------+------------------+------------------+--------------------+\n",
      "|summary|               mpg|         cylinders|      displacement|        horsepower|           weight|      acceleration|        model year|            origin|            car name|\n",
      "+-------+------------------+------------------+------------------+------------------+-----------------+------------------+------------------+------------------+--------------------+\n",
      "|  count|               398|               398|               398|               392|              398|               398|               398|               398|                 398|\n",
      "|   mean|23.514572864321615| 5.454773869346734|193.42587939698493|104.46938775510205|2970.424623115578|15.568090452261291| 76.01005025125629|1.5728643216080402|                NULL|\n",
      "| stddev| 7.815984312565783|1.7010042445332123|104.26983817119587| 38.49115993282846|846.8417741973268| 2.757688929812676|3.6976266467325862|0.8020548777266148|                NULL|\n",
      "|    min|               9.0|                 3|              68.0|                46|             1613|               8.0|                70|                 1|amc ambassador br...|\n",
      "|    max|              46.6|                 8|             455.0|               230|             5140|              24.8|                82|                 3|    vw rabbit custom|\n",
      "+-------+------------------+------------------+------------------+------------------+-----------------+------------------+------------------+------------------+--------------------+\n",
      "\n"
     ]
    },
    {
     "name": "stderr",
     "output_type": "stream",
     "text": [
      "                                                                                \r"
     ]
    }
   ],
   "source": [
    "df.describe().show()"
   ]
  },
  {
   "cell_type": "code",
   "execution_count": 10,
   "metadata": {},
   "outputs": [
    {
     "name": "stdout",
     "output_type": "stream",
     "text": [
      "There are total 398 row. Let print first 2 data rows:\n",
      "+----+---------+------------+----------+------+------------+----------+------+--------------------+\n",
      "| mpg|cylinders|displacement|horsepower|weight|acceleration|model year|origin|            car name|\n",
      "+----+---------+------------+----------+------+------------+----------+------+--------------------+\n",
      "|18.0|        8|       307.0|       130|  3504|        12.0|        70|     1|chevrolet chevell...|\n",
      "|15.0|        8|       350.0|       165|  3693|        11.5|        70|     1|   buick skylark 320|\n",
      "+----+---------+------------+----------+------+------------+----------+------+--------------------+\n",
      "\n"
     ]
    }
   ],
   "source": [
    "print(f'There are total {df.count()} row. Let print first 2 data rows:')\n",
    "df.limit(2).show()"
   ]
  },
  {
   "cell_type": "code",
   "execution_count": 34,
   "metadata": {},
   "outputs": [
    {
     "name": "stdout",
     "output_type": "stream",
     "text": [
      "+---+---------+------------+----------+------+------------+----------+------+--------+\n",
      "|mpg|cylinders|displacement|horsepower|weight|acceleration|model year|origin|car name|\n",
      "+---+---------+------------+----------+------+------------+----------+------+--------+\n",
      "|  0|        0|           0|         6|     0|           0|         0|     0|       0|\n",
      "+---+---------+------------+----------+------+------------+----------+------+--------+\n",
      "\n"
     ]
    }
   ],
   "source": [
    "from pyspark.sql.functions import col, sum as _sum\n",
    "null_counts = df.select(\n",
    "    [\n",
    "        _sum(col(c).isNull().cast(\"int\")).alias(c)  # Count nulls for each column\n",
    "        for c in df.columns\n",
    "    ]\n",
    ")\n",
    "null_counts.show()"
   ]
  },
  {
   "cell_type": "code",
   "execution_count": 36,
   "metadata": {},
   "outputs": [
    {
     "name": "stdout",
     "output_type": "stream",
     "text": [
      "+----+---------+------------+----------+------+------------+----------+------+--------------------+\n",
      "| mpg|cylinders|displacement|horsepower|weight|acceleration|model year|origin|            car name|\n",
      "+----+---------+------------+----------+------+------------+----------+------+--------------------+\n",
      "|18.0|        8|       307.0|       130|  3504|        12.0|        70|     1|chevrolet chevell...|\n",
      "|15.0|        8|       350.0|       165|  3693|        11.5|        70|     1|   buick skylark 320|\n",
      "|18.0|        8|       318.0|       150|  3436|        11.0|        70|     1|  plymouth satellite|\n",
      "|16.0|        8|       304.0|       150|  3433|        12.0|        70|     1|       amc rebel sst|\n",
      "|17.0|        8|       302.0|       140|  3449|        10.5|        70|     1|         ford torino|\n",
      "|15.0|        8|       429.0|       198|  4341|        10.0|        70|     1|    ford galaxie 500|\n",
      "|14.0|        8|       454.0|       220|  4354|         9.0|        70|     1|    chevrolet impala|\n",
      "|14.0|        8|       440.0|       215|  4312|         8.5|        70|     1|   plymouth fury iii|\n",
      "|14.0|        8|       455.0|       225|  4425|        10.0|        70|     1|    pontiac catalina|\n",
      "|15.0|        8|       390.0|       190|  3850|         8.5|        70|     1|  amc ambassador dpl|\n",
      "|15.0|        8|       383.0|       170|  3563|        10.0|        70|     1| dodge challenger se|\n",
      "|14.0|        8|       340.0|       160|  3609|         8.0|        70|     1|  plymouth 'cuda 340|\n",
      "|15.0|        8|       400.0|       150|  3761|         9.5|        70|     1|chevrolet monte c...|\n",
      "|14.0|        8|       455.0|       225|  3086|        10.0|        70|     1|buick estate wago...|\n",
      "|24.0|        4|       113.0|        95|  2372|        15.0|        70|     3|toyota corona mar...|\n",
      "|22.0|        6|       198.0|        95|  2833|        15.5|        70|     1|     plymouth duster|\n",
      "|18.0|        6|       199.0|        97|  2774|        15.5|        70|     1|          amc hornet|\n",
      "|21.0|        6|       200.0|        85|  2587|        16.0|        70|     1|       ford maverick|\n",
      "|27.0|        4|        97.0|        88|  2130|        14.5|        70|     3|        datsun pl510|\n",
      "|26.0|        4|        97.0|        46|  1835|        20.5|        70|     2|volkswagen 1131 d...|\n",
      "+----+---------+------------+----------+------+------------+----------+------+--------------------+\n",
      "only showing top 20 rows\n",
      "\n"
     ]
    }
   ],
   "source": [
    "from pyspark.ml.feature import Imputer\n",
    "imputer = Imputer(\n",
    "    inputCols=[\"horsepower\"],  # Column(s) to fill\n",
    "    outputCols=[\"horsepower\"],  # Column(s) to store filled values\n",
    "    strategy=\"mean\"  # Strategy: 'mean' or 'median'\n",
    ")\n",
    "\n",
    "df_imputed=imputer.fit(df).transform(df)\n",
    "df_imputed.show()"
   ]
  },
  {
   "cell_type": "code",
   "execution_count": 37,
   "metadata": {},
   "outputs": [
    {
     "name": "stdout",
     "output_type": "stream",
     "text": [
      "+---+---------+------------+----------+------+------------+----------+------+--------+\n",
      "|mpg|cylinders|displacement|horsepower|weight|acceleration|model year|origin|car name|\n",
      "+---+---------+------------+----------+------+------------+----------+------+--------+\n",
      "|  0|        0|           0|         0|     0|           0|         0|     0|       0|\n",
      "+---+---------+------------+----------+------+------------+----------+------+--------+\n",
      "\n"
     ]
    }
   ],
   "source": [
    "from pyspark.sql.functions import col, sum as _sum\n",
    "null_counts = df_imputed.select(\n",
    "    [\n",
    "        _sum(col(c).isNull().cast(\"int\")).alias(c)  # Count nulls for each column\n",
    "        for c in df.columns\n",
    "    ]\n",
    ")\n",
    "null_counts.show()"
   ]
  },
  {
   "cell_type": "markdown",
   "metadata": {},
   "source": [
    "The origin column in the Auto MPG dataset represents the region where the car was manufactured. The values in this column are coded as follows:\n",
    "\n",
    "1: United States\n",
    "\n",
    "2: Europe\n",
    "\n",
    "3: Japan"
   ]
  },
  {
   "cell_type": "code",
   "execution_count": 12,
   "metadata": {},
   "outputs": [
    {
     "name": "stdout",
     "output_type": "stream",
     "text": [
      "+----+---------+------------+----------+------+------------+----------+-------------+--------------------+\n",
      "| mpg|cylinders|displacement|horsepower|weight|acceleration|model year|       origin|            car name|\n",
      "+----+---------+------------+----------+------+------------+----------+-------------+--------------------+\n",
      "|18.0|        8|       307.0|       130|  3504|        12.0|        70|United States|chevrolet chevell...|\n",
      "|15.0|        8|       350.0|       165|  3693|        11.5|        70|United States|   buick skylark 320|\n",
      "|18.0|        8|       318.0|       150|  3436|        11.0|        70|United States|  plymouth satellite|\n",
      "|16.0|        8|       304.0|       150|  3433|        12.0|        70|United States|       amc rebel sst|\n",
      "|17.0|        8|       302.0|       140|  3449|        10.5|        70|United States|         ford torino|\n",
      "|15.0|        8|       429.0|       198|  4341|        10.0|        70|United States|    ford galaxie 500|\n",
      "|14.0|        8|       454.0|       220|  4354|         9.0|        70|United States|    chevrolet impala|\n",
      "|14.0|        8|       440.0|       215|  4312|         8.5|        70|United States|   plymouth fury iii|\n",
      "|14.0|        8|       455.0|       225|  4425|        10.0|        70|United States|    pontiac catalina|\n",
      "|15.0|        8|       390.0|       190|  3850|         8.5|        70|United States|  amc ambassador dpl|\n",
      "|15.0|        8|       383.0|       170|  3563|        10.0|        70|United States| dodge challenger se|\n",
      "|14.0|        8|       340.0|       160|  3609|         8.0|        70|United States|  plymouth 'cuda 340|\n",
      "|15.0|        8|       400.0|       150|  3761|         9.5|        70|United States|chevrolet monte c...|\n",
      "|14.0|        8|       455.0|       225|  3086|        10.0|        70|United States|buick estate wago...|\n",
      "|24.0|        4|       113.0|        95|  2372|        15.0|        70|        Japan|toyota corona mar...|\n",
      "|22.0|        6|       198.0|        95|  2833|        15.5|        70|United States|     plymouth duster|\n",
      "|18.0|        6|       199.0|        97|  2774|        15.5|        70|United States|          amc hornet|\n",
      "|21.0|        6|       200.0|        85|  2587|        16.0|        70|United States|       ford maverick|\n",
      "|27.0|        4|        97.0|        88|  2130|        14.5|        70|        Japan|        datsun pl510|\n",
      "|26.0|        4|        97.0|        46|  1835|        20.5|        70|       Europe|volkswagen 1131 d...|\n",
      "+----+---------+------------+----------+------+------------+----------+-------------+--------------------+\n",
      "only showing top 20 rows\n",
      "\n"
     ]
    }
   ],
   "source": [
    "# Change the numeric origin values to corresponding region names\n",
    "df_with_region = df.withColumn(\"origin\", when(df[\"origin\"] == 1, \"United States\")\n",
    "                   .when(df[\"origin\"] == 2, \"Europe\")\n",
    "                   .when(df[\"origin\"] == 3, \"Japan\")\n",
    "                   .otherwise(\"Unknown\"))\n",
    "df_with_region.show()"
   ]
  },
  {
   "cell_type": "code",
   "execution_count": 13,
   "metadata": {},
   "outputs": [
    {
     "name": "stdout",
     "output_type": "stream",
     "text": [
      "+-------------+-----+\n",
      "|       origin|count|\n",
      "+-------------+-----+\n",
      "|       Europe|   70|\n",
      "|United States|  249|\n",
      "|        Japan|   79|\n",
      "+-------------+-----+\n",
      "\n"
     ]
    }
   ],
   "source": [
    "df_grouped=df_with_region.groupBy('origin').count()\n",
    "df_grouped.show()"
   ]
  },
  {
   "cell_type": "markdown",
   "metadata": {},
   "source": [
    "StringIndexer: It is used to convert a string column into numerical form. It allocates unique values to each of the categories present in the respective column."
   ]
  },
  {
   "cell_type": "code",
   "execution_count": 14,
   "metadata": {},
   "outputs": [],
   "source": [
    "# from pyspark.ml.feature import StringIndexer\n",
    "# indexer=StringIndexer(inputCol='origin',outputCol=\"origin_cat\")\n",
    "# indexed=indexer.fit(df).transform(df)"
   ]
  },
  {
   "cell_type": "markdown",
   "metadata": {},
   "source": [
    "# Feature Engineering\n",
    "Given the multiple columns, we need to merge them into a single column using VectorAssembler. It is a feature transformer that merges multiple columns into a vector column. One can select the number of columns used as input features and pass only those columns through the VectorAssembler. We will pass all seven input columns to create a single feature vector column in our case."
   ]
  },
  {
   "cell_type": "code",
   "execution_count": 15,
   "metadata": {},
   "outputs": [],
   "source": [
    "from pyspark.ml.linalg import Vector\n",
    "from pyspark.ml.feature import VectorAssembler"
   ]
  },
  {
   "cell_type": "code",
   "execution_count": 16,
   "metadata": {},
   "outputs": [],
   "source": [
    "assembler=VectorAssembler(inputCols=[\"cylinders\",\"displacement\",\"horsepower\",\"weight\",\"acceleration\",\"model year\",\"origin\"],outputCol='features')"
   ]
  },
  {
   "cell_type": "markdown",
   "metadata": {},
   "source": [
    "VectorAssembler: It is a transformer that helps to select the input columns that we need to create a single feature vector to train our Machine Learning models"
   ]
  },
  {
   "cell_type": "code",
   "execution_count": 17,
   "metadata": {},
   "outputs": [
    {
     "data": {
      "text/plain": [
       "VectorAssembler_65dba010c770"
      ]
     },
     "execution_count": 17,
     "metadata": {},
     "output_type": "execute_result"
    }
   ],
   "source": [
    "assembler"
   ]
  },
  {
   "cell_type": "code",
   "execution_count": 38,
   "metadata": {},
   "outputs": [],
   "source": [
    "df_transformed=assembler.transform(df_imputed)"
   ]
  },
  {
   "cell_type": "code",
   "execution_count": 39,
   "metadata": {},
   "outputs": [
    {
     "name": "stdout",
     "output_type": "stream",
     "text": [
      "+----+---------+------------+----------+------+------------+----------+------+--------------------+--------------------+\n",
      "| mpg|cylinders|displacement|horsepower|weight|acceleration|model year|origin|            car name|            features|\n",
      "+----+---------+------------+----------+------+------------+----------+------+--------------------+--------------------+\n",
      "|18.0|        8|       307.0|       130|  3504|        12.0|        70|     1|chevrolet chevell...|[8.0,307.0,130.0,...|\n",
      "|15.0|        8|       350.0|       165|  3693|        11.5|        70|     1|   buick skylark 320|[8.0,350.0,165.0,...|\n",
      "|18.0|        8|       318.0|       150|  3436|        11.0|        70|     1|  plymouth satellite|[8.0,318.0,150.0,...|\n",
      "|16.0|        8|       304.0|       150|  3433|        12.0|        70|     1|       amc rebel sst|[8.0,304.0,150.0,...|\n",
      "|17.0|        8|       302.0|       140|  3449|        10.5|        70|     1|         ford torino|[8.0,302.0,140.0,...|\n",
      "|15.0|        8|       429.0|       198|  4341|        10.0|        70|     1|    ford galaxie 500|[8.0,429.0,198.0,...|\n",
      "|14.0|        8|       454.0|       220|  4354|         9.0|        70|     1|    chevrolet impala|[8.0,454.0,220.0,...|\n",
      "|14.0|        8|       440.0|       215|  4312|         8.5|        70|     1|   plymouth fury iii|[8.0,440.0,215.0,...|\n",
      "|14.0|        8|       455.0|       225|  4425|        10.0|        70|     1|    pontiac catalina|[8.0,455.0,225.0,...|\n",
      "|15.0|        8|       390.0|       190|  3850|         8.5|        70|     1|  amc ambassador dpl|[8.0,390.0,190.0,...|\n",
      "|15.0|        8|       383.0|       170|  3563|        10.0|        70|     1| dodge challenger se|[8.0,383.0,170.0,...|\n",
      "|14.0|        8|       340.0|       160|  3609|         8.0|        70|     1|  plymouth 'cuda 340|[8.0,340.0,160.0,...|\n",
      "|15.0|        8|       400.0|       150|  3761|         9.5|        70|     1|chevrolet monte c...|[8.0,400.0,150.0,...|\n",
      "|14.0|        8|       455.0|       225|  3086|        10.0|        70|     1|buick estate wago...|[8.0,455.0,225.0,...|\n",
      "|24.0|        4|       113.0|        95|  2372|        15.0|        70|     3|toyota corona mar...|[4.0,113.0,95.0,2...|\n",
      "|22.0|        6|       198.0|        95|  2833|        15.5|        70|     1|     plymouth duster|[6.0,198.0,95.0,2...|\n",
      "|18.0|        6|       199.0|        97|  2774|        15.5|        70|     1|          amc hornet|[6.0,199.0,97.0,2...|\n",
      "|21.0|        6|       200.0|        85|  2587|        16.0|        70|     1|       ford maverick|[6.0,200.0,85.0,2...|\n",
      "|27.0|        4|        97.0|        88|  2130|        14.5|        70|     3|        datsun pl510|[4.0,97.0,88.0,21...|\n",
      "|26.0|        4|        97.0|        46|  1835|        20.5|        70|     2|volkswagen 1131 d...|[4.0,97.0,46.0,18...|\n",
      "+----+---------+------------+----------+------+------------+----------+------+--------------------+--------------------+\n",
      "only showing top 20 rows\n",
      "\n"
     ]
    }
   ],
   "source": [
    "df_transformed.show()"
   ]
  },
  {
   "cell_type": "markdown",
   "metadata": {},
   "source": [
    "Now that we have our features ready and the input variables are known, let’s get them together and dive into the machine-learning technique."
   ]
  },
  {
   "cell_type": "code",
   "execution_count": 40,
   "metadata": {},
   "outputs": [
    {
     "name": "stdout",
     "output_type": "stream",
     "text": [
      "+--------------------+----+\n",
      "|            features| mpg|\n",
      "+--------------------+----+\n",
      "|[8.0,307.0,130.0,...|18.0|\n",
      "|[8.0,350.0,165.0,...|15.0|\n",
      "|[8.0,318.0,150.0,...|18.0|\n",
      "|[8.0,304.0,150.0,...|16.0|\n",
      "|[8.0,302.0,140.0,...|17.0|\n",
      "+--------------------+----+\n",
      "only showing top 5 rows\n",
      "\n"
     ]
    }
   ],
   "source": [
    "df_transformed.select('features','mpg').show(5)"
   ]
  },
  {
   "cell_type": "code",
   "execution_count": 41,
   "metadata": {},
   "outputs": [
    {
     "data": {
      "text/plain": [
       "[('mpg', 'double'),\n",
       " ('cylinders', 'int'),\n",
       " ('displacement', 'double'),\n",
       " ('horsepower', 'int'),\n",
       " ('weight', 'int'),\n",
       " ('acceleration', 'double'),\n",
       " ('model year', 'int'),\n",
       " ('origin', 'int'),\n",
       " ('car name', 'string')]"
      ]
     },
     "execution_count": 41,
     "metadata": {},
     "output_type": "execute_result"
    }
   ],
   "source": [
    "df.dtypes"
   ]
  },
  {
   "cell_type": "markdown",
   "metadata": {},
   "source": [
    "# Splitting the Dataset\n",
    "Splitting the Data into Train and Test sets to train our model and check its efficiency"
   ]
  },
  {
   "cell_type": "code",
   "execution_count": 42,
   "metadata": {},
   "outputs": [],
   "source": [
    "final_data=df_transformed.select('features','mpg')"
   ]
  },
  {
   "cell_type": "code",
   "execution_count": 43,
   "metadata": {},
   "outputs": [],
   "source": [
    "train_data,test_data=final_data.randomSplit([0.7,0.3])"
   ]
  },
  {
   "cell_type": "code",
   "execution_count": 44,
   "metadata": {},
   "outputs": [
    {
     "name": "stdout",
     "output_type": "stream",
     "text": [
      "+-------+-----------------+\n",
      "|summary|              mpg|\n",
      "+-------+-----------------+\n",
      "|  count|              280|\n",
      "|   mean|23.64821428571428|\n",
      "| stddev|7.946216860317434|\n",
      "|    min|              9.0|\n",
      "|    max|             44.6|\n",
      "+-------+-----------------+\n",
      "\n"
     ]
    }
   ],
   "source": [
    "train_data.describe().show()"
   ]
  },
  {
   "cell_type": "code",
   "execution_count": 45,
   "metadata": {},
   "outputs": [
    {
     "name": "stdout",
     "output_type": "stream",
     "text": [
      "+-------+-----------------+\n",
      "|summary|              mpg|\n",
      "+-------+-----------------+\n",
      "|  count|              118|\n",
      "|   mean|23.19745762711864|\n",
      "| stddev|7.521473099311019|\n",
      "|    min|             11.0|\n",
      "|    max|             46.6|\n",
      "+-------+-----------------+\n",
      "\n"
     ]
    }
   ],
   "source": [
    "test_data.describe().show()"
   ]
  },
  {
   "cell_type": "markdown",
   "metadata": {},
   "source": [
    "#  PySpark Linear Regression"
   ]
  },
  {
   "cell_type": "code",
   "execution_count": 47,
   "metadata": {},
   "outputs": [],
   "source": [
    "from pyspark.ml.regression import LinearRegression"
   ]
  },
  {
   "cell_type": "code",
   "execution_count": 48,
   "metadata": {},
   "outputs": [],
   "source": [
    "lr=LinearRegression(featuresCol=\"features\",labelCol=\"mpg\")"
   ]
  },
  {
   "cell_type": "code",
   "execution_count": 49,
   "metadata": {},
   "outputs": [
    {
     "name": "stderr",
     "output_type": "stream",
     "text": [
      "24/12/02 20:50:20 WARN Instrumentation: [a4981c2e] regParam is zero, which might cause numerical instability and overfitting.\n",
      "24/12/02 20:50:20 WARN InstanceBuilder: Failed to load implementation from:dev.ludovic.netlib.blas.VectorBLAS\n"
     ]
    }
   ],
   "source": [
    "trained_lr_model=lr.fit(train_data)"
   ]
  },
  {
   "cell_type": "code",
   "execution_count": 50,
   "metadata": {},
   "outputs": [],
   "source": [
    "results=trained_lr_model.evaluate(train_data)"
   ]
  },
  {
   "cell_type": "code",
   "execution_count": 53,
   "metadata": {},
   "outputs": [
    {
     "name": "stdout",
     "output_type": "stream",
     "text": [
      "Root Mean Squared Error (RMSE): 3.2645489385835766\n",
      "Mean Absolute Error (MAE): 2.512042869379488\n",
      "R-squared (R²): 0.8306132760518332\n"
     ]
    }
   ],
   "source": [
    "# Print the evaluation metrics\n",
    "print(\"Root Mean Squared Error (RMSE): {}\".format(results.rootMeanSquaredError))\n",
    "print(\"Mean Absolute Error (MAE): {}\".format(results.meanAbsoluteError))\n",
    "print(\"R-squared (R²): {}\".format(results.r2))"
   ]
  },
  {
   "cell_type": "markdown",
   "metadata": {},
   "source": [
    "# Predictions from the Model"
   ]
  },
  {
   "cell_type": "code",
   "execution_count": 54,
   "metadata": {},
   "outputs": [
    {
     "name": "stdout",
     "output_type": "stream",
     "text": [
      "+--------------------+\n",
      "|            features|\n",
      "+--------------------+\n",
      "|[3.0,70.0,97.0,23...|\n",
      "|[4.0,68.0,49.0,18...|\n",
      "|[4.0,71.0,65.0,17...|\n",
      "|[4.0,79.0,67.0,20...|\n",
      "|[4.0,86.0,65.0,21...|\n",
      "+--------------------+\n",
      "only showing top 5 rows\n",
      "\n"
     ]
    }
   ],
   "source": [
    "unlabeled_data=test_data.select(\"features\")\n",
    "unlabeled_data.show(5)"
   ]
  },
  {
   "cell_type": "markdown",
   "metadata": {},
   "source": [
    "# PySpark Linear Regression Predict"
   ]
  },
  {
   "cell_type": "code",
   "execution_count": 55,
   "metadata": {},
   "outputs": [
    {
     "name": "stdout",
     "output_type": "stream",
     "text": [
      "+--------------------+------------------+\n",
      "|            features|        prediction|\n",
      "+--------------------+------------------+\n",
      "|[3.0,70.0,97.0,23...|24.813987240503703|\n",
      "|[4.0,68.0,49.0,18...|28.044651639568695|\n",
      "|[4.0,71.0,65.0,17...|28.324082058655737|\n",
      "|[4.0,79.0,67.0,20...|27.741228281729253|\n",
      "|[4.0,86.0,65.0,21...|33.230975197964355|\n",
      "|[4.0,89.0,60.0,19...|34.364272562826116|\n",
      "|[4.0,89.0,62.0,20...|34.456368033017455|\n",
      "|[4.0,90.0,48.0,19...|  31.6859917646316|\n",
      "|[4.0,90.0,48.0,20...|32.579183661818604|\n",
      "|[4.0,90.0,70.0,19...|28.987999072778198|\n",
      "|[4.0,90.0,71.0,22...|27.174600887440025|\n",
      "|[4.0,90.0,75.0,21...| 27.09641938564891|\n",
      "|[4.0,91.0,53.0,17...|31.595699222859576|\n",
      "|[4.0,91.0,60.0,18...| 33.81206334420234|\n",
      "|[4.0,91.0,68.0,20...|    35.49558969876|\n",
      "|[4.0,91.0,70.0,19...|24.963169266198886|\n",
      "|[4.0,97.0,60.0,18...|27.095489383720345|\n",
      "|[4.0,97.0,75.0,21...|28.856434100266423|\n",
      "|[4.0,97.0,88.0,21...|26.968673321486055|\n",
      "|[4.0,97.0,92.0,22...|25.674879010442414|\n",
      "+--------------------+------------------+\n",
      "only showing top 20 rows\n",
      "\n"
     ]
    }
   ],
   "source": [
    "predictions=trained_lr_model.transform(unlabeled_data)\n",
    "predictions.show()"
   ]
  },
  {
   "cell_type": "code",
   "execution_count": 58,
   "metadata": {},
   "outputs": [],
   "source": [
    "test_results=trained_lr_model.evaluate(test_data)"
   ]
  },
  {
   "cell_type": "code",
   "execution_count": 60,
   "metadata": {},
   "outputs": [
    {
     "name": "stdout",
     "output_type": "stream",
     "text": [
      "Test data Root Mean Squared Error (RMSE): 3.4541729787396753\n",
      "Test data Mean Absolute Error (MAE): 2.4939016647873093\n",
      "Test data R-squared (R²): 0.7872946089440453\n"
     ]
    }
   ],
   "source": [
    "# Print the evaluation metrics\n",
    "print(\"Test data Root Mean Squared Error (RMSE): {}\".format(test_results.rootMeanSquaredError))\n",
    "print(\"Test data Mean Absolute Error (MAE): {}\".format(test_results.meanAbsoluteError))\n",
    "print(\"Test data R-squared (R²): {}\".format(test_results.r2))"
   ]
  },
  {
   "cell_type": "code",
   "execution_count": null,
   "metadata": {},
   "outputs": [],
   "source": []
  }
 ],
 "metadata": {
  "kernelspec": {
   "display_name": "spark",
   "language": "python",
   "name": "python3"
  },
  "language_info": {
   "codemirror_mode": {
    "name": "ipython",
    "version": 3
   },
   "file_extension": ".py",
   "mimetype": "text/x-python",
   "name": "python",
   "nbconvert_exporter": "python",
   "pygments_lexer": "ipython3",
   "version": "3.13.0"
  }
 },
 "nbformat": 4,
 "nbformat_minor": 2
}
