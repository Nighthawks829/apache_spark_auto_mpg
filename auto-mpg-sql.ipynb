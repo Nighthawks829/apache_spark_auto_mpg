{
 "cells": [
  {
   "cell_type": "code",
   "execution_count": 47,
   "metadata": {},
   "outputs": [],
   "source": [
    "from pyspark.sql import SparkSession\n",
    "from pyspark.sql.functions import col\n",
    "from pyspark.sql.functions import when"
   ]
  },
  {
   "cell_type": "code",
   "execution_count": 48,
   "metadata": {},
   "outputs": [],
   "source": [
    "spark = SparkSession.builder.appName(\"PySpark SQL Server Connection\").config(\n",
    "    \"spark.jars\", \"/usr/share/java/mysql-connector-java-9.1.0.jar\").getOrCreate()"
   ]
  },
  {
   "cell_type": "code",
   "execution_count": null,
   "metadata": {},
   "outputs": [],
   "source": [
    "# Define MySQL connection parameters\n",
    "jdbc_url = \"jdbc:mysql://192.168.0.110/auto_mpg\"\n",
    "connection_properties = {\"user\": \"nighthawksdb\",\n",
    "                         \"password\": \"sunlightsam829\", \"driver\": \"com.mysql.cj.jdbc.Driver\"}"
   ]
  },
  {
   "cell_type": "code",
   "execution_count": 64,
   "metadata": {},
   "outputs": [],
   "source": [
    "# Load the data from MySQL into a Spark DataFrame\n",
    "df = spark.read.jdbc(url=jdbc_url, table=\"auto_mpg\", properties=connection_properties)"
   ]
  },
  {
   "cell_type": "code",
   "execution_count": 65,
   "metadata": {},
   "outputs": [
    {
     "name": "stdout",
     "output_type": "stream",
     "text": [
      "+----+---------+------------+----------+------+------------+----------+------+--------------------+\n",
      "| mpg|cylinders|displacement|horsepower|weight|acceleration|model year|origin|            car name|\n",
      "+----+---------+------------+----------+------+------------+----------+------+--------------------+\n",
      "|18.0|        8|       307.0|       130|  3504|        12.0|        70|     1|chevrolet chevell...|\n",
      "|15.0|        8|       350.0|       165|  3693|        11.5|        70|     1|   buick skylark 320|\n",
      "|18.0|        8|       318.0|       150|  3436|        11.0|        70|     1|  plymouth satellite|\n",
      "|16.0|        8|       304.0|       150|  3433|        12.0|        70|     1|       amc rebel sst|\n",
      "|17.0|        8|       302.0|       140|  3449|        10.5|        70|     1|         ford torino|\n",
      "+----+---------+------------+----------+------+------------+----------+------+--------------------+\n",
      "only showing top 5 rows\n",
      "\n"
     ]
    }
   ],
   "source": [
    "df.show(5)"
   ]
  },
  {
   "cell_type": "code",
   "execution_count": 66,
   "metadata": {},
   "outputs": [
    {
     "data": {
      "text/plain": [
       "[('mpg', 'decimal(3,1)'),\n",
       " ('cylinders', 'int'),\n",
       " ('displacement', 'decimal(4,1)'),\n",
       " ('horsepower', 'string'),\n",
       " ('weight', 'int'),\n",
       " ('acceleration', 'decimal(3,1)'),\n",
       " ('model year', 'int'),\n",
       " ('origin', 'int'),\n",
       " ('car name', 'string')]"
      ]
     },
     "execution_count": 66,
     "metadata": {},
     "output_type": "execute_result"
    }
   ],
   "source": [
    "df.dtypes"
   ]
  },
  {
   "cell_type": "code",
   "execution_count": 67,
   "metadata": {},
   "outputs": [],
   "source": [
    "# Change data type of horsepower from string to int\n",
    "df=df.withColumn(\"horsepower\",col(\"horsepower\").cast(\"int\"))"
   ]
  },
  {
   "cell_type": "code",
   "execution_count": 68,
   "metadata": {},
   "outputs": [
    {
     "data": {
      "text/plain": [
       "[('mpg', 'decimal(3,1)'),\n",
       " ('cylinders', 'int'),\n",
       " ('displacement', 'decimal(4,1)'),\n",
       " ('horsepower', 'int'),\n",
       " ('weight', 'int'),\n",
       " ('acceleration', 'decimal(3,1)'),\n",
       " ('model year', 'int'),\n",
       " ('origin', 'int'),\n",
       " ('car name', 'string')]"
      ]
     },
     "execution_count": 68,
     "metadata": {},
     "output_type": "execute_result"
    }
   ],
   "source": [
    "df.dtypes"
   ]
  },
  {
   "cell_type": "code",
   "execution_count": 69,
   "metadata": {},
   "outputs": [
    {
     "name": "stdout",
     "output_type": "stream",
     "text": [
      "There are total 398 row. Let print first 2 data rows:\n",
      "+----+---------+------------+----------+------+------------+----------+------+--------------------+\n",
      "| mpg|cylinders|displacement|horsepower|weight|acceleration|model year|origin|            car name|\n",
      "+----+---------+------------+----------+------+------------+----------+------+--------------------+\n",
      "|18.0|        8|       307.0|       130|  3504|        12.0|        70|     1|chevrolet chevell...|\n",
      "|15.0|        8|       350.0|       165|  3693|        11.5|        70|     1|   buick skylark 320|\n",
      "+----+---------+------------+----------+------+------------+----------+------+--------------------+\n",
      "\n"
     ]
    }
   ],
   "source": [
    "print(f'There are total {df.count()} row. Let print first 2 data rows:')\n",
    "df.limit(2).show()"
   ]
  },
  {
   "cell_type": "code",
   "execution_count": null,
   "metadata": {},
   "outputs": [
    {
     "name": "stdout",
     "output_type": "stream",
     "text": [
      "+---+---------+------------+----------+------+------------+----------+------+--------+\n",
      "|mpg|cylinders|displacement|horsepower|weight|acceleration|model year|origin|car name|\n",
      "+---+---------+------------+----------+------+------------+----------+------+--------+\n",
      "|  0|        0|           0|         6|     0|           0|         0|     0|       0|\n",
      "+---+---------+------------+----------+------+------------+----------+------+--------+\n",
      "\n"
     ]
    }
   ],
   "source": [
    "# Calculate the number of null values in each column\n",
    "from pyspark.sql.functions import col, sum as _sum\n",
    "null_counts = df.select([_sum(col(c).isNull().cast(\"int\")).alias(c) for c in df.columns])  # Show the result \n",
    "null_counts.show()"
   ]
  },
  {
   "cell_type": "code",
   "execution_count": 74,
   "metadata": {},
   "outputs": [
    {
     "name": "stderr",
     "output_type": "stream",
     "text": [
      "[Stage 69:>                                                         (0 + 1) / 1]\r"
     ]
    },
    {
     "name": "stdout",
     "output_type": "stream",
     "text": [
      "+----+---------+------------+----------+------+------------+----------+------+--------------------+\n",
      "| mpg|cylinders|displacement|horsepower|weight|acceleration|model year|origin|            car name|\n",
      "+----+---------+------------+----------+------+------------+----------+------+--------------------+\n",
      "|18.0|        8|       307.0|       130|  3504|        12.0|        70|     1|chevrolet chevell...|\n",
      "|15.0|        8|       350.0|       165|  3693|        11.5|        70|     1|   buick skylark 320|\n",
      "|18.0|        8|       318.0|       150|  3436|        11.0|        70|     1|  plymouth satellite|\n",
      "|16.0|        8|       304.0|       150|  3433|        12.0|        70|     1|       amc rebel sst|\n",
      "|17.0|        8|       302.0|       140|  3449|        10.5|        70|     1|         ford torino|\n",
      "|15.0|        8|       429.0|       198|  4341|        10.0|        70|     1|    ford galaxie 500|\n",
      "|14.0|        8|       454.0|       220|  4354|         9.0|        70|     1|    chevrolet impala|\n",
      "|14.0|        8|       440.0|       215|  4312|         8.5|        70|     1|   plymouth fury iii|\n",
      "|14.0|        8|       455.0|       225|  4425|        10.0|        70|     1|    pontiac catalina|\n",
      "|15.0|        8|       390.0|       190|  3850|         8.5|        70|     1|  amc ambassador dpl|\n",
      "|15.0|        8|       383.0|       170|  3563|        10.0|        70|     1| dodge challenger se|\n",
      "|14.0|        8|       340.0|       160|  3609|         8.0|        70|     1|  plymouth 'cuda 340|\n",
      "|15.0|        8|       400.0|       150|  3761|         9.5|        70|     1|chevrolet monte c...|\n",
      "|14.0|        8|       455.0|       225|  3086|        10.0|        70|     1|buick estate wago...|\n",
      "|24.0|        4|       113.0|        95|  2372|        15.0|        70|     3|toyota corona mar...|\n",
      "|22.0|        6|       198.0|        95|  2833|        15.5|        70|     1|     plymouth duster|\n",
      "|18.0|        6|       199.0|        97|  2774|        15.5|        70|     1|          amc hornet|\n",
      "|21.0|        6|       200.0|        85|  2587|        16.0|        70|     1|       ford maverick|\n",
      "|27.0|        4|        97.0|        88|  2130|        14.5|        70|     3|        datsun pl510|\n",
      "|26.0|        4|        97.0|        46|  1835|        20.5|        70|     2|volkswagen 1131 d...|\n",
      "+----+---------+------------+----------+------+------------+----------+------+--------------------+\n",
      "only showing top 20 rows\n",
      "\n"
     ]
    },
    {
     "name": "stderr",
     "output_type": "stream",
     "text": [
      "                                                                                \r"
     ]
    }
   ],
   "source": [
    "from pyspark.ml.feature import Imputer\n",
    "imputer = Imputer(\n",
    "    inputCols=[\"horsepower\"],  # Column(s) to fill\n",
    "    outputCols=[\"horsepower\"],  # Column(s) to store filled values\n",
    "    strategy=\"mean\"  # Strategy: 'mean' or 'median'\n",
    ")\n",
    "\n",
    "df_imputed=imputer.fit(df).transform(df)\n",
    "df_imputed.show()"
   ]
  },
  {
   "cell_type": "code",
   "execution_count": 87,
   "metadata": {},
   "outputs": [
    {
     "name": "stdout",
     "output_type": "stream",
     "text": [
      "+---+---------+------------+----------+------+------------+----------+------+--------+\n",
      "|mpg|cylinders|displacement|horsepower|weight|acceleration|model year|origin|car name|\n",
      "+---+---------+------------+----------+------+------------+----------+------+--------+\n",
      "|  0|        0|           0|         0|     0|           0|         0|     0|       0|\n",
      "+---+---------+------------+----------+------+------------+----------+------+--------+\n",
      "\n"
     ]
    }
   ],
   "source": [
    "# Calculate the number of null values in each column\n",
    "from pyspark.sql.functions import col, sum as _sum\n",
    "null_counts = df_imputed.select([_sum(col(c).isNull().cast(\"int\")).alias(c) for c in df.columns])  # Show the result \n",
    "null_counts.show()"
   ]
  },
  {
   "cell_type": "code",
   "execution_count": 88,
   "metadata": {},
   "outputs": [
    {
     "name": "stdout",
     "output_type": "stream",
     "text": [
      "+----+---------+------------+----------+------+------------+----------+-------------+--------------------+\n",
      "| mpg|cylinders|displacement|horsepower|weight|acceleration|model year|       origin|            car name|\n",
      "+----+---------+------------+----------+------+------------+----------+-------------+--------------------+\n",
      "|18.0|        8|       307.0|       130|  3504|        12.0|        70|United States|chevrolet chevell...|\n",
      "|15.0|        8|       350.0|       165|  3693|        11.5|        70|United States|   buick skylark 320|\n",
      "|18.0|        8|       318.0|       150|  3436|        11.0|        70|United States|  plymouth satellite|\n",
      "|16.0|        8|       304.0|       150|  3433|        12.0|        70|United States|       amc rebel sst|\n",
      "|17.0|        8|       302.0|       140|  3449|        10.5|        70|United States|         ford torino|\n",
      "|15.0|        8|       429.0|       198|  4341|        10.0|        70|United States|    ford galaxie 500|\n",
      "|14.0|        8|       454.0|       220|  4354|         9.0|        70|United States|    chevrolet impala|\n",
      "|14.0|        8|       440.0|       215|  4312|         8.5|        70|United States|   plymouth fury iii|\n",
      "|14.0|        8|       455.0|       225|  4425|        10.0|        70|United States|    pontiac catalina|\n",
      "|15.0|        8|       390.0|       190|  3850|         8.5|        70|United States|  amc ambassador dpl|\n",
      "|15.0|        8|       383.0|       170|  3563|        10.0|        70|United States| dodge challenger se|\n",
      "|14.0|        8|       340.0|       160|  3609|         8.0|        70|United States|  plymouth 'cuda 340|\n",
      "|15.0|        8|       400.0|       150|  3761|         9.5|        70|United States|chevrolet monte c...|\n",
      "|14.0|        8|       455.0|       225|  3086|        10.0|        70|United States|buick estate wago...|\n",
      "|24.0|        4|       113.0|        95|  2372|        15.0|        70|        Japan|toyota corona mar...|\n",
      "|22.0|        6|       198.0|        95|  2833|        15.5|        70|United States|     plymouth duster|\n",
      "|18.0|        6|       199.0|        97|  2774|        15.5|        70|United States|          amc hornet|\n",
      "|21.0|        6|       200.0|        85|  2587|        16.0|        70|United States|       ford maverick|\n",
      "|27.0|        4|        97.0|        88|  2130|        14.5|        70|        Japan|        datsun pl510|\n",
      "|26.0|        4|        97.0|        46|  1835|        20.5|        70|       Europe|volkswagen 1131 d...|\n",
      "+----+---------+------------+----------+------+------------+----------+-------------+--------------------+\n",
      "only showing top 20 rows\n",
      "\n"
     ]
    }
   ],
   "source": [
    "# Change the numeric origin values to corresponding region names\n",
    "df_with_region = df.withColumn(\"origin\", when(df[\"origin\"] == 1, \"United States\")\n",
    "                   .when(df[\"origin\"] == 2, \"Europe\")\n",
    "                   .when(df[\"origin\"] == 3, \"Japan\")\n",
    "                   .otherwise(\"Unknown\"))\n",
    "df_with_region.show()"
   ]
  },
  {
   "cell_type": "code",
   "execution_count": 77,
   "metadata": {},
   "outputs": [
    {
     "name": "stdout",
     "output_type": "stream",
     "text": [
      "+-------------+-----+\n",
      "|       origin|count|\n",
      "+-------------+-----+\n",
      "|       Europe|   70|\n",
      "|United States|  249|\n",
      "|        Japan|   79|\n",
      "+-------------+-----+\n",
      "\n"
     ]
    }
   ],
   "source": [
    "df_grouped=df_with_region.groupBy('origin').count()\n",
    "df_grouped.show()"
   ]
  },
  {
   "cell_type": "markdown",
   "metadata": {},
   "source": [
    "# Feature Engineering\n",
    "Given the multiple columns, we need to merge them into a single column using VectorAssembler. It is a feature transformer that merges multiple columns into a vector column. One can select the number of columns used as input features and pass only those columns through the VectorAssembler. We will pass all seven input columns to create a single feature vector column in our case."
   ]
  },
  {
   "cell_type": "code",
   "execution_count": 78,
   "metadata": {},
   "outputs": [],
   "source": [
    "from pyspark.ml.linalg import Vector\n",
    "from pyspark.ml.feature import VectorAssembler"
   ]
  },
  {
   "cell_type": "code",
   "execution_count": 79,
   "metadata": {},
   "outputs": [],
   "source": [
    "assembler = VectorAssembler(inputCols=[\"cylinders\", \"displacement\", \"horsepower\",\n",
    "                            \"weight\", \"acceleration\", \"model year\", \"origin\"], outputCol='features')"
   ]
  },
  {
   "cell_type": "code",
   "execution_count": 80,
   "metadata": {},
   "outputs": [
    {
     "data": {
      "text/plain": [
       "VectorAssembler_650b0858746c"
      ]
     },
     "execution_count": 80,
     "metadata": {},
     "output_type": "execute_result"
    }
   ],
   "source": [
    "assembler"
   ]
  },
  {
   "cell_type": "code",
   "execution_count": 89,
   "metadata": {},
   "outputs": [],
   "source": [
    "df_transformed=assembler.transform(df_imputed)"
   ]
  },
  {
   "cell_type": "code",
   "execution_count": 90,
   "metadata": {},
   "outputs": [
    {
     "name": "stdout",
     "output_type": "stream",
     "text": [
      "+----+---------+------------+----------+------+------------+----------+------+--------------------+--------------------+\n",
      "| mpg|cylinders|displacement|horsepower|weight|acceleration|model year|origin|            car name|            features|\n",
      "+----+---------+------------+----------+------+------------+----------+------+--------------------+--------------------+\n",
      "|18.0|        8|       307.0|       130|  3504|        12.0|        70|     1|chevrolet chevell...|[8.0,307.0,130.0,...|\n",
      "|15.0|        8|       350.0|       165|  3693|        11.5|        70|     1|   buick skylark 320|[8.0,350.0,165.0,...|\n",
      "|18.0|        8|       318.0|       150|  3436|        11.0|        70|     1|  plymouth satellite|[8.0,318.0,150.0,...|\n",
      "|16.0|        8|       304.0|       150|  3433|        12.0|        70|     1|       amc rebel sst|[8.0,304.0,150.0,...|\n",
      "|17.0|        8|       302.0|       140|  3449|        10.5|        70|     1|         ford torino|[8.0,302.0,140.0,...|\n",
      "|15.0|        8|       429.0|       198|  4341|        10.0|        70|     1|    ford galaxie 500|[8.0,429.0,198.0,...|\n",
      "|14.0|        8|       454.0|       220|  4354|         9.0|        70|     1|    chevrolet impala|[8.0,454.0,220.0,...|\n",
      "|14.0|        8|       440.0|       215|  4312|         8.5|        70|     1|   plymouth fury iii|[8.0,440.0,215.0,...|\n",
      "|14.0|        8|       455.0|       225|  4425|        10.0|        70|     1|    pontiac catalina|[8.0,455.0,225.0,...|\n",
      "|15.0|        8|       390.0|       190|  3850|         8.5|        70|     1|  amc ambassador dpl|[8.0,390.0,190.0,...|\n",
      "|15.0|        8|       383.0|       170|  3563|        10.0|        70|     1| dodge challenger se|[8.0,383.0,170.0,...|\n",
      "|14.0|        8|       340.0|       160|  3609|         8.0|        70|     1|  plymouth 'cuda 340|[8.0,340.0,160.0,...|\n",
      "|15.0|        8|       400.0|       150|  3761|         9.5|        70|     1|chevrolet monte c...|[8.0,400.0,150.0,...|\n",
      "|14.0|        8|       455.0|       225|  3086|        10.0|        70|     1|buick estate wago...|[8.0,455.0,225.0,...|\n",
      "|24.0|        4|       113.0|        95|  2372|        15.0|        70|     3|toyota corona mar...|[4.0,113.0,95.0,2...|\n",
      "|22.0|        6|       198.0|        95|  2833|        15.5|        70|     1|     plymouth duster|[6.0,198.0,95.0,2...|\n",
      "|18.0|        6|       199.0|        97|  2774|        15.5|        70|     1|          amc hornet|[6.0,199.0,97.0,2...|\n",
      "|21.0|        6|       200.0|        85|  2587|        16.0|        70|     1|       ford maverick|[6.0,200.0,85.0,2...|\n",
      "|27.0|        4|        97.0|        88|  2130|        14.5|        70|     3|        datsun pl510|[4.0,97.0,88.0,21...|\n",
      "|26.0|        4|        97.0|        46|  1835|        20.5|        70|     2|volkswagen 1131 d...|[4.0,97.0,46.0,18...|\n",
      "+----+---------+------------+----------+------+------------+----------+------+--------------------+--------------------+\n",
      "only showing top 20 rows\n",
      "\n"
     ]
    }
   ],
   "source": [
    "df_transformed.show()"
   ]
  },
  {
   "cell_type": "code",
   "execution_count": 91,
   "metadata": {},
   "outputs": [
    {
     "name": "stdout",
     "output_type": "stream",
     "text": [
      "+--------------------+----+\n",
      "|            features| mpg|\n",
      "+--------------------+----+\n",
      "|[8.0,307.0,130.0,...|18.0|\n",
      "|[8.0,350.0,165.0,...|15.0|\n",
      "|[8.0,318.0,150.0,...|18.0|\n",
      "|[8.0,304.0,150.0,...|16.0|\n",
      "|[8.0,302.0,140.0,...|17.0|\n",
      "+--------------------+----+\n",
      "only showing top 5 rows\n",
      "\n"
     ]
    }
   ],
   "source": [
    "df_transformed.select('features','mpg').show(5)"
   ]
  },
  {
   "cell_type": "code",
   "execution_count": 92,
   "metadata": {},
   "outputs": [],
   "source": [
    "final_data=df_transformed.select('features','mpg')"
   ]
  },
  {
   "cell_type": "code",
   "execution_count": null,
   "metadata": {},
   "outputs": [],
   "source": [
    "train_data,test_data=final_data.randomSplit([0.7,0.3])"
   ]
  },
  {
   "cell_type": "code",
   "execution_count": 94,
   "metadata": {},
   "outputs": [
    {
     "name": "stdout",
     "output_type": "stream",
     "text": [
      "+-------+-----------------+\n",
      "|summary|              mpg|\n",
      "+-------+-----------------+\n",
      "|  count|              294|\n",
      "|   mean|         23.56803|\n",
      "| stddev|7.736624361074818|\n",
      "|    min|              9.0|\n",
      "|    max|             46.6|\n",
      "+-------+-----------------+\n",
      "\n"
     ]
    }
   ],
   "source": [
    "train_data.describe().show()"
   ]
  },
  {
   "cell_type": "code",
   "execution_count": 95,
   "metadata": {},
   "outputs": [
    {
     "name": "stdout",
     "output_type": "stream",
     "text": [
      "+-------+-----------------+\n",
      "|summary|              mpg|\n",
      "+-------+-----------------+\n",
      "|  count|              104|\n",
      "|   mean|         23.36346|\n",
      "| stddev|8.072331476979532|\n",
      "|    min|             10.0|\n",
      "|    max|             44.6|\n",
      "+-------+-----------------+\n",
      "\n"
     ]
    }
   ],
   "source": [
    "test_data.describe().show()"
   ]
  },
  {
   "cell_type": "markdown",
   "metadata": {},
   "source": [
    "#  PySpark Linear Regression"
   ]
  },
  {
   "cell_type": "code",
   "execution_count": 96,
   "metadata": {},
   "outputs": [],
   "source": [
    "from pyspark.ml.regression import LinearRegression"
   ]
  },
  {
   "cell_type": "code",
   "execution_count": 97,
   "metadata": {},
   "outputs": [],
   "source": [
    "lr=LinearRegression(featuresCol=\"features\",labelCol=\"mpg\")"
   ]
  },
  {
   "cell_type": "code",
   "execution_count": 98,
   "metadata": {},
   "outputs": [
    {
     "name": "stderr",
     "output_type": "stream",
     "text": [
      "24/12/02 21:43:49 WARN Instrumentation: [2a90dcb3] regParam is zero, which might cause numerical instability and overfitting.\n",
      "24/12/02 21:43:49 WARN InstanceBuilder: Failed to load implementation from:dev.ludovic.netlib.blas.VectorBLAS\n",
      "                                                                                \r"
     ]
    }
   ],
   "source": [
    "trained_lr_model=lr.fit(train_data)"
   ]
  },
  {
   "cell_type": "code",
   "execution_count": 99,
   "metadata": {},
   "outputs": [],
   "source": [
    "results=trained_lr_model.evaluate(train_data)"
   ]
  },
  {
   "cell_type": "code",
   "execution_count": null,
   "metadata": {},
   "outputs": [
    {
     "name": "stdout",
     "output_type": "stream",
     "text": [
      "Root Mean Squared Error (RMSE): 3.3034701706649665\n",
      "Mean Absolute Error (MAE): 2.5028361312990053\n",
      "R-squared (R²): 0.8170562961740342\n"
     ]
    }
   ],
   "source": [
    "# Print the evaluation metrics\n",
    "print(\"Train data Root Mean Squared Error (RMSE): {}\".format(results.rootMeanSquaredError))\n",
    "print(\"Train data Mean Absolute Error (MAE): {}\".format(results.meanAbsoluteError))\n",
    "print(\"Train data R-squared (R²): {}\".format(results.r2))"
   ]
  },
  {
   "cell_type": "code",
   "execution_count": 101,
   "metadata": {},
   "outputs": [
    {
     "name": "stdout",
     "output_type": "stream",
     "text": [
      "+--------------------+\n",
      "|            features|\n",
      "+--------------------+\n",
      "|[3.0,70.0,100.0,2...|\n",
      "|[4.0,76.0,52.0,16...|\n",
      "|[4.0,79.0,67.0,19...|\n",
      "|[4.0,79.0,70.0,20...|\n",
      "|[4.0,81.0,60.0,17...|\n",
      "+--------------------+\n",
      "only showing top 5 rows\n",
      "\n"
     ]
    }
   ],
   "source": [
    "unlabeled_data=test_data.select(\"features\")\n",
    "unlabeled_data.show(5)"
   ]
  },
  {
   "cell_type": "code",
   "execution_count": 102,
   "metadata": {},
   "outputs": [
    {
     "name": "stdout",
     "output_type": "stream",
     "text": [
      "+--------------------+------------------+\n",
      "|            features|        prediction|\n",
      "+--------------------+------------------+\n",
      "|[3.0,70.0,100.0,2...|30.505967677205696|\n",
      "|[4.0,76.0,52.0,16...|31.660666142364292|\n",
      "|[4.0,79.0,67.0,19...|30.135740160653924|\n",
      "|[4.0,79.0,70.0,20...|25.898597479270443|\n",
      "|[4.0,81.0,60.0,17...| 36.03016228444024|\n",
      "|[4.0,85.0,65.0,20...| 33.45639810081174|\n",
      "|[4.0,89.0,60.0,19...| 34.52958714699049|\n",
      "|[4.0,89.0,62.0,20...| 34.44650480053773|\n",
      "|[4.0,90.0,70.0,19...|28.912113080827503|\n",
      "|[4.0,91.0,53.0,17...|31.832471003572238|\n",
      "|[4.0,91.0,67.0,18...| 34.43439557987582|\n",
      "|[4.0,91.0,67.0,19...| 35.34939111789171|\n",
      "|[4.0,97.0,67.0,19...| 31.90701208114558|\n",
      "|[4.0,97.0,71.0,18...| 30.16669781556415|\n",
      "|[4.0,97.0,75.0,21...|30.038189916132872|\n",
      "|[4.0,97.0,78.0,19...|30.534700482700657|\n",
      "|[4.0,97.0,78.0,21...|31.318922036503686|\n",
      "|[4.0,97.0,88.0,21...|27.473818217194328|\n",
      "|[4.0,97.0,88.0,21...|25.457643587219835|\n",
      "|[4.0,98.0,63.0,20...|28.980485387116453|\n",
      "+--------------------+------------------+\n",
      "only showing top 20 rows\n",
      "\n"
     ]
    }
   ],
   "source": [
    "predictions=trained_lr_model.transform(unlabeled_data)\n",
    "predictions.show()"
   ]
  },
  {
   "cell_type": "code",
   "execution_count": 103,
   "metadata": {},
   "outputs": [],
   "source": [
    "test_results=trained_lr_model.evaluate(test_data)"
   ]
  },
  {
   "cell_type": "code",
   "execution_count": 104,
   "metadata": {},
   "outputs": [
    {
     "name": "stdout",
     "output_type": "stream",
     "text": [
      "Test data Root Mean Squared Error (RMSE): 3.339541974679029\n",
      "Test data Mean Absolute Error (MAE): 2.5302759675353386\n",
      "Test data R-squared (R²): 0.8271887732437024\n"
     ]
    }
   ],
   "source": [
    "# Print the evaluation metrics\n",
    "print(\"Test data Root Mean Squared Error (RMSE): {}\".format(test_results.rootMeanSquaredError))\n",
    "print(\"Test data Mean Absolute Error (MAE): {}\".format(test_results.meanAbsoluteError))\n",
    "print(\"Test data R-squared (R²): {}\".format(test_results.r2))"
   ]
  }
 ],
 "metadata": {
  "kernelspec": {
   "display_name": "spark",
   "language": "python",
   "name": "python3"
  },
  "language_info": {
   "codemirror_mode": {
    "name": "ipython",
    "version": 3
   },
   "file_extension": ".py",
   "mimetype": "text/x-python",
   "name": "python",
   "nbconvert_exporter": "python",
   "pygments_lexer": "ipython3",
   "version": "3.13.0"
  }
 },
 "nbformat": 4,
 "nbformat_minor": 2
}
